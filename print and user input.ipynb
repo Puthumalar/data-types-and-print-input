{
 "cells": [
  {
   "cell_type": "code",
   "execution_count": null,
   "id": "68fe12d7",
   "metadata": {},
   "outputs": [],
   "source": []
  },
  {
   "cell_type": "code",
   "execution_count": 1,
   "id": "283dd4e8",
   "metadata": {},
   "outputs": [],
   "source": [
    "name=\"puthumalar\"\n"
   ]
  },
  {
   "cell_type": "markdown",
   "id": "7addf19a",
   "metadata": {},
   "source": [
    "# format print\n"
   ]
  },
  {
   "cell_type": "code",
   "execution_count": 2,
   "id": "35fb144f",
   "metadata": {},
   "outputs": [
    {
     "name": "stdout",
     "output_type": "stream",
     "text": [
      "my name is puthumalar\n"
     ]
    }
   ],
   "source": [
    "print(\"my name is {}\".format(name))"
   ]
  },
  {
   "cell_type": "code",
   "execution_count": 3,
   "id": "be921e24",
   "metadata": {},
   "outputs": [
    {
     "name": "stdout",
     "output_type": "stream",
     "text": [
      "my name is puthumalar.iam in pmist\n"
     ]
    }
   ],
   "source": [
    "print(\"my name is {name}.iam in {college}\".format(name=\"puthumalar\",college=\"pmist\"))"
   ]
  },
  {
   "cell_type": "code",
   "execution_count": 4,
   "id": "a47011cc",
   "metadata": {},
   "outputs": [
    {
     "name": "stdout",
     "output_type": "stream",
     "text": [
      "my name is puthumalar.iam in pmist\n"
     ]
    }
   ],
   "source": [
    "print(\"my name is {}.iam in {}\".format(\"puthumalar\",\"pmist\"))"
   ]
  },
  {
   "cell_type": "markdown",
   "id": "9a0d4571",
   "metadata": {},
   "source": [
    "# F-print"
   ]
  },
  {
   "cell_type": "code",
   "execution_count": 5,
   "id": "3be3fc93",
   "metadata": {},
   "outputs": [
    {
     "name": "stdout",
     "output_type": "stream",
     "text": [
      "my name is puthumalar,i am cse engineer\n"
     ]
    }
   ],
   "source": [
    "print(f\"my name is {'puthumalar'},i am {'cse'} engineer\")"
   ]
  },
  {
   "cell_type": "markdown",
   "id": "e6cca1be",
   "metadata": {},
   "source": [
    "# TASK1"
   ]
  },
  {
   "cell_type": "markdown",
   "id": "d71b5fcd",
   "metadata": {},
   "source": [
    "## she \"sell\" sea shell in \"sea shore\""
   ]
  },
  {
   "cell_type": "code",
   "execution_count": 6,
   "id": "2bb34fc2",
   "metadata": {},
   "outputs": [
    {
     "name": "stdout",
     "output_type": "stream",
     "text": [
      "she sell sea shell in sea shore\n"
     ]
    }
   ],
   "source": [
    "print(f\"she sell {'sea shell'} in sea shore\")"
   ]
  },
  {
   "cell_type": "markdown",
   "id": "6fda4e3e",
   "metadata": {},
   "source": [
    "# user input"
   ]
  },
  {
   "cell_type": "code",
   "execution_count": 16,
   "id": "dd6399d4",
   "metadata": {},
   "outputs": [
    {
     "name": "stdout",
     "output_type": "stream",
     "text": [
      "25\n"
     ]
    }
   ],
   "source": [
    "var=int(input())"
   ]
  },
  {
   "cell_type": "code",
   "execution_count": 17,
   "id": "66b52dfb",
   "metadata": {},
   "outputs": [
    {
     "data": {
      "text/plain": [
       "25"
      ]
     },
     "execution_count": 17,
     "metadata": {},
     "output_type": "execute_result"
    }
   ],
   "source": [
    "var"
   ]
  },
  {
   "cell_type": "code",
   "execution_count": 18,
   "id": "32466d7f",
   "metadata": {},
   "outputs": [
    {
     "name": "stdout",
     "output_type": "stream",
     "text": [
      "enter your age25\n"
     ]
    }
   ],
   "source": [
    "var=input(\"enter your age\")"
   ]
  },
  {
   "cell_type": "code",
   "execution_count": 21,
   "id": "0ece26de",
   "metadata": {},
   "outputs": [
    {
     "name": "stdout",
     "output_type": "stream",
     "text": [
      "25\n"
     ]
    }
   ],
   "source": [
    "var1=int(input())"
   ]
  },
  {
   "cell_type": "code",
   "execution_count": 25,
   "id": "47aa3c93",
   "metadata": {},
   "outputs": [
    {
     "data": {
      "text/plain": [
       "int"
      ]
     },
     "execution_count": 25,
     "metadata": {},
     "output_type": "execute_result"
    }
   ],
   "source": [
    "type(var1)"
   ]
  },
  {
   "cell_type": "code",
   "execution_count": null,
   "id": "2b814a44",
   "metadata": {},
   "outputs": [],
   "source": []
  }
 ],
 "metadata": {
  "kernelspec": {
   "display_name": "Python 3 (ipykernel)",
   "language": "python",
   "name": "python3"
  },
  "language_info": {
   "codemirror_mode": {
    "name": "ipython",
    "version": 3
   },
   "file_extension": ".py",
   "mimetype": "text/x-python",
   "name": "python",
   "nbconvert_exporter": "python",
   "pygments_lexer": "ipython3",
   "version": "3.9.17"
  }
 },
 "nbformat": 4,
 "nbformat_minor": 5
}
