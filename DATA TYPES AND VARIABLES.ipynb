{
 "cells": [
  {
   "cell_type": "code",
   "execution_count": 8,
   "id": "18aa66cd",
   "metadata": {},
   "outputs": [
    {
     "name": "stdout",
     "output_type": "stream",
     "text": [
      "Collecting numpy\n",
      "  Obtaining dependency information for numpy from https://files.pythonhosted.org/packages/df/18/181fb40f03090c6fbd061bb8b1f4c32453f7c602b0dc7c08b307baca7cd7/numpy-1.25.2-cp39-cp39-win_amd64.whl.metadata\n",
      "  Downloading numpy-1.25.2-cp39-cp39-win_amd64.whl.metadata (5.7 kB)\n",
      "Downloading numpy-1.25.2-cp39-cp39-win_amd64.whl (15.6 MB)\n",
      "   ---------------------------------------- 0.0/15.6 MB ? eta -:--:--\n",
      "   ---------------------------------------- 0.0/15.6 MB ? eta -:--:--\n",
      "   ---------------------------------------- 0.1/15.6 MB 2.4 MB/s eta 0:00:07\n",
      "   - -------------------------------------- 0.5/15.6 MB 5.6 MB/s eta 0:00:03\n",
      "   -- ------------------------------------- 1.0/15.6 MB 6.9 MB/s eta 0:00:03\n",
      "   --- ------------------------------------ 1.5/15.6 MB 8.2 MB/s eta 0:00:02\n",
      "   ----- ---------------------------------- 2.1/15.6 MB 9.1 MB/s eta 0:00:02\n",
      "   ------- -------------------------------- 2.9/15.6 MB 10.3 MB/s eta 0:00:02\n",
      "   --------- ------------------------------ 3.8/15.6 MB 11.4 MB/s eta 0:00:02\n",
      "   ----------- ---------------------------- 4.6/15.6 MB 12.4 MB/s eta 0:00:01\n",
      "   -------------- ------------------------- 5.6/15.6 MB 12.7 MB/s eta 0:00:01\n",
      "   ---------------- ----------------------- 6.4/15.6 MB 13.7 MB/s eta 0:00:01\n",
      "   ------------------ --------------------- 7.4/15.6 MB 14.3 MB/s eta 0:00:01\n",
      "   --------------------- ------------------ 8.3/15.6 MB 14.7 MB/s eta 0:00:01\n",
      "   ---------------------- ----------------- 8.9/15.6 MB 14.7 MB/s eta 0:00:01\n",
      "   ------------------------ --------------- 9.6/15.6 MB 14.6 MB/s eta 0:00:01\n",
      "   -------------------------- ------------- 10.3/15.6 MB 15.2 MB/s eta 0:00:01\n",
      "   ---------------------------- ----------- 10.9/15.6 MB 16.4 MB/s eta 0:00:01\n",
      "   ----------------------------- ---------- 11.6/15.6 MB 16.8 MB/s eta 0:00:01\n",
      "   ------------------------------- -------- 12.3/15.6 MB 16.8 MB/s eta 0:00:01\n",
      "   --------------------------------- ------ 13.0/15.6 MB 16.8 MB/s eta 0:00:01\n",
      "   ----------------------------------- ---- 13.7/15.6 MB 16.4 MB/s eta 0:00:01\n",
      "   ------------------------------------ --- 14.4/15.6 MB 16.4 MB/s eta 0:00:01\n",
      "   -------------------------------------- - 15.2/15.6 MB 16.0 MB/s eta 0:00:01\n",
      "   ---------------------------------------  15.6/15.6 MB 16.0 MB/s eta 0:00:01\n",
      "   ---------------------------------------  15.6/15.6 MB 16.0 MB/s eta 0:00:01\n",
      "   ---------------------------------------  15.6/15.6 MB 16.0 MB/s eta 0:00:01\n",
      "   ---------------------------------------  15.6/15.6 MB 16.0 MB/s eta 0:00:01\n",
      "   ---------------------------------------  15.6/15.6 MB 16.0 MB/s eta 0:00:01\n",
      "   ---------------------------------------- 15.6/15.6 MB 11.3 MB/s eta 0:00:00\n",
      "Installing collected packages: numpy\n",
      "Successfully installed numpy-1.25.2\n",
      "Note: you may need to restart the kernel to use updated packages.\n"
     ]
    }
   ],
   "source": [
    "pip install numpy"
   ]
  },
  {
   "cell_type": "code",
   "execution_count": 10,
   "id": "a3acd453",
   "metadata": {},
   "outputs": [],
   "source": [
    "import numpy as n"
   ]
  },
  {
   "cell_type": "code",
   "execution_count": 1,
   "id": "85bb517a",
   "metadata": {},
   "outputs": [],
   "source": [
    "A=10\n"
   ]
  },
  {
   "cell_type": "code",
   "execution_count": 2,
   "id": "893c82c2",
   "metadata": {},
   "outputs": [],
   "source": [
    "A_=10"
   ]
  },
  {
   "cell_type": "code",
   "execution_count": 7,
   "id": "85a25bfa",
   "metadata": {},
   "outputs": [],
   "source": [
    "B=5\n",
    "C=8\n",
    "A=B+C\n"
   ]
  },
  {
   "cell_type": "markdown",
   "id": "15091918",
   "metadata": {},
   "source": [
    "a=array[1,2,3,4,5]"
   ]
  },
  {
   "cell_type": "code",
   "execution_count": 11,
   "id": "637113dd",
   "metadata": {},
   "outputs": [],
   "source": [
    "aq=n.array([1,2])"
   ]
  },
  {
   "cell_type": "code",
   "execution_count": 14,
   "id": "bd368da3",
   "metadata": {},
   "outputs": [
    {
     "data": {
      "text/plain": [
       "numpy.ndarray"
      ]
     },
     "execution_count": 14,
     "metadata": {},
     "output_type": "execute_result"
    }
   ],
   "source": [
    "type(aq)"
   ]
  },
  {
   "cell_type": "code",
   "execution_count": 13,
   "id": "e673dac9",
   "metadata": {},
   "outputs": [],
   "source": [
    "lis=[1,2,3,4]"
   ]
  },
  {
   "cell_type": "code",
   "execution_count": 5,
   "id": "b071ab31",
   "metadata": {},
   "outputs": [
    {
     "data": {
      "text/plain": [
       "list"
      ]
     },
     "execution_count": 5,
     "metadata": {},
     "output_type": "execute_result"
    }
   ],
   "source": [
    "type(lis)"
   ]
  },
  {
   "cell_type": "code",
   "execution_count": 6,
   "id": "342d605d",
   "metadata": {},
   "outputs": [],
   "source": [
    "tup=(1,2,3)\n"
   ]
  },
  {
   "cell_type": "code",
   "execution_count": 7,
   "id": "6d4a422b",
   "metadata": {},
   "outputs": [
    {
     "data": {
      "text/plain": [
       "tuple"
      ]
     },
     "execution_count": 7,
     "metadata": {},
     "output_type": "execute_result"
    }
   ],
   "source": [
    "type(tup)"
   ]
  },
  {
   "cell_type": "code",
   "execution_count": 15,
   "id": "6f943fd2",
   "metadata": {},
   "outputs": [],
   "source": [
    "c=range(10,100)"
   ]
  },
  {
   "cell_type": "code",
   "execution_count": 16,
   "id": "86729280",
   "metadata": {},
   "outputs": [
    {
     "data": {
      "text/plain": [
       "range(10, 100)"
      ]
     },
     "execution_count": 16,
     "metadata": {},
     "output_type": "execute_result"
    }
   ],
   "source": []
  },
  {
   "cell_type": "code",
   "execution_count": 18,
   "id": "987e23c0",
   "metadata": {},
   "outputs": [
    {
     "data": {
      "text/plain": [
       "[10,\n",
       " 11,\n",
       " 12,\n",
       " 13,\n",
       " 14,\n",
       " 15,\n",
       " 16,\n",
       " 17,\n",
       " 18,\n",
       " 19,\n",
       " 20,\n",
       " 21,\n",
       " 22,\n",
       " 23,\n",
       " 24,\n",
       " 25,\n",
       " 26,\n",
       " 27,\n",
       " 28,\n",
       " 29,\n",
       " 30,\n",
       " 31,\n",
       " 32,\n",
       " 33,\n",
       " 34,\n",
       " 35,\n",
       " 36,\n",
       " 37,\n",
       " 38,\n",
       " 39,\n",
       " 40,\n",
       " 41,\n",
       " 42,\n",
       " 43,\n",
       " 44,\n",
       " 45,\n",
       " 46,\n",
       " 47,\n",
       " 48,\n",
       " 49,\n",
       " 50,\n",
       " 51,\n",
       " 52,\n",
       " 53,\n",
       " 54,\n",
       " 55,\n",
       " 56,\n",
       " 57,\n",
       " 58,\n",
       " 59,\n",
       " 60,\n",
       " 61,\n",
       " 62,\n",
       " 63,\n",
       " 64,\n",
       " 65,\n",
       " 66,\n",
       " 67,\n",
       " 68,\n",
       " 69,\n",
       " 70,\n",
       " 71,\n",
       " 72,\n",
       " 73,\n",
       " 74,\n",
       " 75,\n",
       " 76,\n",
       " 77,\n",
       " 78,\n",
       " 79,\n",
       " 80,\n",
       " 81,\n",
       " 82,\n",
       " 83,\n",
       " 84,\n",
       " 85,\n",
       " 86,\n",
       " 87,\n",
       " 88,\n",
       " 89,\n",
       " 90,\n",
       " 91,\n",
       " 92,\n",
       " 93,\n",
       " 94,\n",
       " 95,\n",
       " 96,\n",
       " 97,\n",
       " 98,\n",
       " 99]"
      ]
     },
     "execution_count": 18,
     "metadata": {},
     "output_type": "execute_result"
    }
   ],
   "source": [
    "list(range(10,100))"
   ]
  },
  {
   "cell_type": "code",
   "execution_count": 1,
   "id": "9784843d",
   "metadata": {},
   "outputs": [],
   "source": [
    "FOOD={1:'BRIYANI',2:'DOSA',3:'IDLY',4:'NAAN'}"
   ]
  },
  {
   "cell_type": "code",
   "execution_count": 3,
   "id": "3ffd483c",
   "metadata": {},
   "outputs": [
    {
     "data": {
      "text/plain": [
       "dict"
      ]
     },
     "execution_count": 3,
     "metadata": {},
     "output_type": "execute_result"
    }
   ],
   "source": [
    "type(FOOD)"
   ]
  },
  {
   "cell_type": "code",
   "execution_count": 4,
   "id": "9babbd2c",
   "metadata": {},
   "outputs": [
    {
     "data": {
      "text/plain": [
       "dict_values(['BRIYANI', 'DOSA', 'IDLY', 'NAAN'])"
      ]
     },
     "execution_count": 4,
     "metadata": {},
     "output_type": "execute_result"
    }
   ],
   "source": [
    "FOOD.values()"
   ]
  },
  {
   "cell_type": "code",
   "execution_count": 5,
   "id": "1b2ca93f",
   "metadata": {},
   "outputs": [
    {
     "data": {
      "text/plain": [
       "dict_keys([1, 2, 3, 4])"
      ]
     },
     "execution_count": 5,
     "metadata": {},
     "output_type": "execute_result"
    }
   ],
   "source": [
    "FOOD.keys()"
   ]
  },
  {
   "cell_type": "code",
   "execution_count": 6,
   "id": "48492a68",
   "metadata": {},
   "outputs": [
    {
     "data": {
      "text/plain": [
       "'BRIYANI'"
      ]
     },
     "execution_count": 6,
     "metadata": {},
     "output_type": "execute_result"
    }
   ],
   "source": [
    "FOOD[1]"
   ]
  },
  {
   "cell_type": "code",
   "execution_count": 7,
   "id": "5ab9774c",
   "metadata": {},
   "outputs": [],
   "source": [
    "FOOD[1]='DOSA'"
   ]
  },
  {
   "cell_type": "code",
   "execution_count": 8,
   "id": "74dd7879",
   "metadata": {},
   "outputs": [
    {
     "data": {
      "text/plain": [
       "{1: 'DOSA', 2: 'DOSA', 3: 'IDLY', 4: 'NAAN'}"
      ]
     },
     "execution_count": 8,
     "metadata": {},
     "output_type": "execute_result"
    }
   ],
   "source": [
    "FOOD"
   ]
  },
  {
   "cell_type": "code",
   "execution_count": 9,
   "id": "1487d6ec",
   "metadata": {},
   "outputs": [],
   "source": [
    "FOOD[2]='BRIYANI'"
   ]
  },
  {
   "cell_type": "code",
   "execution_count": 10,
   "id": "f671c5c0",
   "metadata": {},
   "outputs": [
    {
     "data": {
      "text/plain": [
       "{1: 'DOSA', 2: 'BRIYANI', 3: 'IDLY', 4: 'NAAN'}"
      ]
     },
     "execution_count": 10,
     "metadata": {},
     "output_type": "execute_result"
    }
   ],
   "source": [
    "FOOD"
   ]
  },
  {
   "cell_type": "code",
   "execution_count": 14,
   "id": "d680b8de",
   "metadata": {},
   "outputs": [],
   "source": [
    "DETAIL={'FOOD':'BRINANI','PRICE':200,'QUANTITY':'1/2 PLATE'}"
   ]
  },
  {
   "cell_type": "code",
   "execution_count": 15,
   "id": "603e41db",
   "metadata": {},
   "outputs": [
    {
     "data": {
      "text/plain": [
       "{'FOOD': 'BRINANI', 'PRICE': 200, 'QUANTITY': '1/2 PLATE'}"
      ]
     },
     "execution_count": 15,
     "metadata": {},
     "output_type": "execute_result"
    }
   ],
   "source": [
    "DETAIL"
   ]
  },
  {
   "cell_type": "code",
   "execution_count": 16,
   "id": "5f92838f",
   "metadata": {},
   "outputs": [
    {
     "data": {
      "text/plain": [
       "'BRINANI'"
      ]
     },
     "execution_count": 16,
     "metadata": {},
     "output_type": "execute_result"
    }
   ],
   "source": [
    "DETAIL['FOOD']"
   ]
  },
  {
   "cell_type": "code",
   "execution_count": 18,
   "id": "59ec0c87",
   "metadata": {},
   "outputs": [
    {
     "data": {
      "text/plain": [
       "3"
      ]
     },
     "execution_count": 18,
     "metadata": {},
     "output_type": "execute_result"
    }
   ],
   "source": [
    "len(DETAIL)"
   ]
  },
  {
   "cell_type": "code",
   "execution_count": 19,
   "id": "378b835f",
   "metadata": {},
   "outputs": [
    {
     "data": {
      "text/plain": [
       "'BRINANI'"
      ]
     },
     "execution_count": 19,
     "metadata": {},
     "output_type": "execute_result"
    }
   ],
   "source": [
    "DETAIL.pop('FOOD')"
   ]
  },
  {
   "cell_type": "markdown",
   "id": "d2d80bc7",
   "metadata": {},
   "source": [
    "# SET"
   ]
  },
  {
   "cell_type": "code",
   "execution_count": 30,
   "id": "f0d96f31",
   "metadata": {},
   "outputs": [],
   "source": [
    "DETAIL2={\"BRIYANI:200\",\"IDLY:30\",\"DOSA:70\"}"
   ]
  },
  {
   "cell_type": "code",
   "execution_count": 31,
   "id": "f9050755",
   "metadata": {},
   "outputs": [
    {
     "data": {
      "text/plain": [
       "set"
      ]
     },
     "execution_count": 31,
     "metadata": {},
     "output_type": "execute_result"
    }
   ],
   "source": [
    "type(DETAIL2)"
   ]
  },
  {
   "cell_type": "code",
   "execution_count": 32,
   "id": "cd73dd9d",
   "metadata": {},
   "outputs": [
    {
     "data": {
      "text/plain": [
       "{'BRIYANI:200', 'DOSA:70', 'IDLY:30'}"
      ]
     },
     "execution_count": 32,
     "metadata": {},
     "output_type": "execute_result"
    }
   ],
   "source": [
    "DETAIL2"
   ]
  },
  {
   "cell_type": "code",
   "execution_count": 33,
   "id": "410d6ea6",
   "metadata": {},
   "outputs": [],
   "source": [
    "DETAIL2.update({\"PAROTA\",\"FRIED RICE\"})"
   ]
  },
  {
   "cell_type": "code",
   "execution_count": 34,
   "id": "ded5a825",
   "metadata": {},
   "outputs": [
    {
     "data": {
      "text/plain": [
       "{'BRIYANI:200', 'DOSA:70', 'FRIED RICE', 'IDLY:30', 'PAROTA'}"
      ]
     },
     "execution_count": 34,
     "metadata": {},
     "output_type": "execute_result"
    }
   ],
   "source": [
    "DETAIL2"
   ]
  },
  {
   "cell_type": "code",
   "execution_count": 39,
   "id": "7de55512",
   "metadata": {},
   "outputs": [],
   "source": [
    "DETAIL3=frozenset({\"PAROTA\",\"FRIED RICE\"})"
   ]
  },
  {
   "cell_type": "code",
   "execution_count": 41,
   "id": "7e38b71d",
   "metadata": {},
   "outputs": [
    {
     "data": {
      "text/plain": [
       "frozenset({'FRIED RICE', 'PAROTA'})"
      ]
     },
     "execution_count": 41,
     "metadata": {},
     "output_type": "execute_result"
    }
   ],
   "source": [
    "(DETAIL3)"
   ]
  },
  {
   "cell_type": "code",
   "execution_count": 42,
   "id": "939b8633",
   "metadata": {},
   "outputs": [
    {
     "data": {
      "text/plain": [
       "True"
      ]
     },
     "execution_count": 42,
     "metadata": {},
     "output_type": "execute_result"
    }
   ],
   "source": [
    "a=50\n",
    "b=10\n",
    "a>b"
   ]
  },
  {
   "cell_type": "code",
   "execution_count": null,
   "id": "86309817",
   "metadata": {},
   "outputs": [],
   "source": []
  }
 ],
 "metadata": {
  "kernelspec": {
   "display_name": "Python 3 (ipykernel)",
   "language": "python",
   "name": "python3"
  },
  "language_info": {
   "codemirror_mode": {
    "name": "ipython",
    "version": 3
   },
   "file_extension": ".py",
   "mimetype": "text/x-python",
   "name": "python",
   "nbconvert_exporter": "python",
   "pygments_lexer": "ipython3",
   "version": "3.9.17"
  }
 },
 "nbformat": 4,
 "nbformat_minor": 5
}
